{
 "cells": [
  {
   "cell_type": "code",
   "execution_count": 38,
   "metadata": {},
   "outputs": [],
   "source": [
    "import pdfplumber as pdf\n",
    "import requests\n",
    "import numpy as np"
   ]
  },
  {
   "cell_type": "markdown",
   "metadata": {},
   "source": [
    "Le todas as corretagens de Bovespa da Clear"
   ]
  },
  {
   "cell_type": "code",
   "execution_count": 7,
   "metadata": {},
   "outputs": [
    {
     "name": "stdout",
     "output_type": "stream",
     "text": [
      "['11.2020.pdf', '3.2020.pdf', '4.2020.pdf', '5.2020.pdf', '6.2020.pdf', '7.2020.pdf', '8.2020.pdf', '9.2020.pdf']\n"
     ]
    }
   ],
   "source": [
    "from os import listdir\n",
    "from os.path import isfile, join\n",
    "path = 'Notas Negociação/'\n",
    "files = [f for f in listdir(path) if isfile(join(path, f))]\n",
    "print(files)"
   ]
  },
  {
   "cell_type": "code",
   "execution_count": 19,
   "metadata": {},
   "outputs": [
    {
     "name": "stdout",
     "output_type": "stream",
     "text": [
      "PDF: Notas Negociação/11.2020.pdf\n",
      "PDF: Notas Negociação/3.2020.pdf\n",
      "PDF: Notas Negociação/4.2020.pdf\n",
      "PDF: Notas Negociação/5.2020.pdf\n",
      "PDF: Notas Negociação/6.2020.pdf\n",
      "PDF: Notas Negociação/7.2020.pdf\n",
      "PDF: Notas Negociação/8.2020.pdf\n",
      "PDF: Notas Negociação/9.2020.pdf\n"
     ]
    }
   ],
   "source": [
    "values = []\n",
    "ir = []\n",
    "data = []\n",
    "\n",
    "futuros = \"C/V Mercadoria Vencimento Quantidade Preço/Ajuste Tipo Negócio Vlr de Operação/Ajuste D/C Taxa Operacional\"\n",
    "vista = \"Q Negociação C/V Tipo mercado Prazo Especificação do título Obs. (*) Quantidade Preço / Ajuste Valor Operação / Ajuste D/C\"\n",
    "compare = [\"\", \"\"]\n",
    "\n",
    "for pasta in files:\n",
    "    Pdf = pdf.open(path+pasta)\n",
    "    bovespa = False\n",
    "\n",
    "    for page in Pdf.pages:\n",
    "        text = page.extract_text()\n",
    "        cont = 0\n",
    "        for row in text.split('\\n'):\n",
    "            cont = cont + 1\n",
    "            if cont == 15:\n",
    "                compare[0] = row\n",
    "            elif cont == 19:\n",
    "                compare[1] = row\n",
    "            elif row.startswith('+Custos BM&F, conforme Ofício Circular'):\n",
    "                index = cont - 1\n",
    "        if compare[0] == futuros:\n",
    "            bovespa = True\n",
    "        elif compare[1] == vista:\n",
    "            bovespa = False\n",
    "        cont = 0\n",
    "        if bovespa == True:\n",
    "            for row in text.split('\\n'):\n",
    "                cont = cont + 1\n",
    "                if cont == 2:\n",
    "                    data.append(row.split()[-1])\n",
    "                if cont == index - 4:\n",
    "                    irText = row.split()[-6]\n",
    "                    irText = float(irText.replace(',','.'))\n",
    "                    ir.append(irText)\n",
    "                if cont == index:\n",
    "                    valueText = row.split()[-3]\n",
    "                    valueText = float(valueText.replace(',','.'))\n",
    "                    dc = row.split()[-1]\n",
    "                    if dc == 'D':\n",
    "                        valueText = valueText*-1\n",
    "                    values.append(valueText)\n",
    "    Pdf.close()"
   ]
  },
  {
   "cell_type": "code",
   "execution_count": 24,
   "metadata": {},
   "outputs": [
    {
     "name": "stdout",
     "output_type": "stream",
     "text": [
      "10/03/2020 0.44 43.56\n",
      "11/03/2020 0.2 19.8\n",
      "12/03/2020 0.14 14.36\n",
      "13/03/2020 1.77 175.75\n",
      "16/03/2020 0.0 -831.9\n",
      "17/03/2020 2.29 227.21\n",
      "18/03/2020 0.0 -197.0\n",
      "19/03/2020 0.0 -190.48\n",
      "20/03/2020 0.0 -163.0\n",
      "27/04/2020 0.17 17.33\n",
      "28/04/2020 0.0 -52.5\n",
      "29/04/2020 0.0 -110.0\n",
      "04/05/2020 0.0 -77.5\n",
      "05/05/2020 0.91 90.59\n",
      "06/05/2020 0.4 40.1\n",
      "07/05/2020 0.0 -24.0\n",
      "08/05/2020 0.43 43.07\n",
      "11/05/2020 0.46 46.04\n",
      "12/05/2020 0.0 -33.0\n",
      "13/05/2020 0.0 -28.0\n",
      "14/05/2020 0.65 64.85\n",
      "18/05/2020 0.36 36.14\n",
      "19/05/2020 0.57 56.93\n",
      "20/05/2020 0.0 -30.0\n",
      "21/05/2020 0.0 -76.5\n",
      "22/05/2020 0.62 61.88\n",
      "26/05/2020 0.08 7.92\n",
      "27/05/2020 0.12 12.38\n",
      "28/05/2020 0.0 -3.0\n",
      "29/05/2020 0.72 71.78\n",
      "02/06/2020 0.5 49.5\n",
      "03/06/2020 0.82 81.68\n",
      "04/06/2020 0.0 -145.5\n",
      "05/06/2020 0.95 94.55\n",
      "08/06/2020 0.0 -93.0\n",
      "09/06/2020 0.64 63.86\n",
      "10/06/2020 0.0 -60.5\n",
      "16/06/2020 1.16 115.34\n",
      "18/06/2020 0.59 58.41\n",
      "19/06/2020 0.0 -82.0\n",
      "22/06/2020 0.0 -17.5\n",
      "23/06/2020 0.0 -37.5\n",
      "24/06/2020 1.79 177.21\n",
      "29/06/2020 0.0 -128.0\n",
      "30/06/2020 1.03 101.97\n",
      "01/07/2020 0.0 -67.5\n",
      "02/07/2020 0.0 -17.5\n",
      "07/07/2020 0.0 -67.5\n",
      "08/07/2020 0.63 62.87\n",
      "09/07/2020 0.1 10.4\n",
      "10/07/2020 0.0 -35.5\n",
      "13/07/2020 0.0 -31.5\n",
      "14/07/2020 0.0 -42.0\n",
      "23/07/2020 0.3 30.2\n",
      "24/07/2020 1.15 113.85\n",
      "27/07/2020 0.0 -133.0\n",
      "16/09/2020 0.21 20.79\n",
      "-765.06\n"
     ]
    }
   ],
   "source": [
    "soma = 0\n",
    "\n",
    "for i in range (0, len(values)):\n",
    "    print(data[i], ir[i], values[i])\n",
    "    soma = soma + values[i]\n",
    "    \n",
    "print(soma)"
   ]
  }
 ],
 "metadata": {
  "kernelspec": {
   "display_name": "Python 3",
   "language": "python",
   "name": "python3"
  },
  "language_info": {
   "codemirror_mode": {
    "name": "ipython",
    "version": 3
   },
   "file_extension": ".py",
   "mimetype": "text/x-python",
   "name": "python",
   "nbconvert_exporter": "python",
   "pygments_lexer": "ipython3",
   "version": "3.8.5"
  }
 },
 "nbformat": 4,
 "nbformat_minor": 4
}
